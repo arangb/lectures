import pylab as P
import numpy as np
from itertools import count

class input_data:
  _num=count(0)
  _monthly_change=0.0
  _compound_rate="M"
  
  def __init__(self,_name,_capital_now,_APR,_time,_monthly_change,_compound_rate,_color,_line_style):
    self.name=_name
    self.capital=_capital_now
    self.apr=_APR     # annual percentage rate (the interest for one year), as decimal: 6%=0.06
    self.time=_time   # How long you want the xaxis to go [in years]
    self.monthly_change=_monthly_change # this is how much money we add(>0) or remove (<0) every month
    self.comp_rate=_compound_rate # whether the interest is compounded monthly ("M") or yearly ("Y")
    self.color=_color
    self.line_style=_line_style
    # See how to add counter to number of instances of a class:
    # http://stackoverflow.com/questions/8628123/counting-instances-of-a-class
    self.ids=self._num.next()
    
  def __str__(self):
    ''' This method allows to print the object: p=input_data(...); print p;'''
    message=self.name + ' : ' + self.capital + ' : ' + self.interest
    return message
    
  def plot_histo(self):
    '''
    Returns the histogram with capital values as a function of time [years] 
    depending on whether the interest is compounded every month (_compound_rate="M")
    or every year (_compound_rate="Y").
    The formula: C(t)=C_0[1+(r/n)]**(n*t) gives the capital at any time t from some initial value.
    r is the APR in percentage; and n is the number of times per year the interest is compounded
    (n=12 if monthly, n=1 if yearly).
    See: http://en.wikipedia.org/wiki/Compound_interest
    But we want to include incremental changes every month, so we run a loop over nbins=n*t,
    where every time we multiply the previous capital by the value [1+(r/n)].
    And now of course we correct the previous capital by whatever amount we deduct or add monthly.
    To obtain the same curves as shown in wikipedia (which have no monthly_change):
    fund1=input_data('Monthly',1000,0.20,maxtime,0.,"M",4,1)
    fund2=input_data('Quarterly',1000,0.20,maxtime,0.,"Q",1,1)
    fund3=input_data('Yearly',1000,0.20,maxtime,0.,"Y",2,1)
    Then you can change the monthly_change and see its effect.
    '''
    if self.comp_rate=="M":
    	months_per_bin=1.00
    elif self.comp_rate=="Y":
	months_per_bin=12.00
    elif self.comp_rate=="Q":
	months_per_bin=3.00
    else:
	print " plot_histo: invalid _compound_rate. Must be M, Q, or Y "
	return	
    nbins=int(self.time*12.00/months_per_bin) # This should be integer or ROOT complains!
    value=self.capital
    xcontent=[None]*(nbins+1)   # need to add 1 more to fill the last bin
    for x in range(0,nbins+1):  # idem
      value=(value+self.monthly_change*months_per_bin)*(1.0+self.apr*int(months_per_bin)/12)
      # The monthly_change can be positive or negative!
      if x==0 or x==1: # This has to do with how P starts the binning
	 value=self.capital
      xcontent[x]=value
      #print nbins, x, value, self.monthly_change

    # To make sure we fill the last bin: we need to add a little bit extra to the 
    # second argument (less than the increment, which is the third argument)
    # A simple example: print np.arange(0,10,0.1) vs np.arange(0,10.1,0.1)
    xbins=np.arange(0.,self.time+self.time/(2.*float(nbins)),self.time/float(nbins))
    P.plot(xbins,xcontent,color=self.color,label=self.name,linewidth=2.0,linestyle=self.line_style,drawstyle='steps')
    # Check: http://matplotlib.org/api/pyplot_api.html#matplotlib.pyplot.plot
    
def main():
    
    maxtime=10 # [years]
    # Some tracking (to verify initial forecast):
    # June 2014:  36421, 5788, 13856 
    # March 2015: 34243, 5944, 13090 (rentabilidades a 3a: 0.0673, 0.66!!, 0.1857)
    # March 2016: 31124, 4363, 11790 (rentabilidades a 3a: 0.0368, 0.21, 0.0957)  
    fund1=input_data('BK Inv Mon',   36421,0.0857/3.00,maxtime,-260.,"M","blue","-")
    fund2=input_data('BK Renta Var',  5788,  0.28/3.00,maxtime, -40.,"M","red","-.")
    fund3=input_data('BK Tranq 2017',13856,     0.0459,maxtime,-100.,"M","green","--")
    #fund1=input_data('Monthly',1000,0.20,maxtime,0.,"M","black","-")
    #fund2=input_data('Quarterly',1000,0.20,maxtime,0.,"Q","red","-")
    #fund3=input_data('Yearly',1000,0.20,maxtime,0.,"Y","green","-")
    # Define here the order and how many funds you want to plot:
    funds=(fund1,fund2,fund3)

    for f in funds:
	f.plot_histo()
	
    P.legend(loc='upper center')
    #P.show()
    P.title("Compound interest")
    P.xlabel("Time since 2014 (now) [years]")
    P.ylabel("Euros")
    P.ylim(0.)
    P.grid()
    P.savefig("plot_compound_interest_vs_time.png")
    
main()
