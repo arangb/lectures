import numpy as np
#import matplotlib.pyplot as plt
import pylab as plt
# Read the documentation to learn about all the options for styles, etc:
# http://matplotlib.org/api/pyplot_api.html
# http://matplotlib.org/users/pyplot_tutorial.html
from matplotlib.backends.backend_pdf import PdfPages
pdf = PdfPages('drawing_with_matplotlib.pdf') # save all plots in one pdf file
# Take a look at a module called DASHI:
# http://www.ifh.de/~middell/dashi/
# It tries to add more of the functionality we are used to in HEP. 

Nentries=1000

'''
 First, draw a histogram like a TGraph (scatter plot): with values of x and y
'''
x=np.arange(0,10)
y=[14,12,20,13,18,26,10,20,15,11]

# marker= squares (s), circle(o), triange (^)
# linestyle='steps' to look like a histogram
plt.plot(x, y, linewidth=2.0, linestyle='-', color='black', marker='o', markerfacecolor='r', markersize=5.2)

plt.title("Hello world")
plt.xlabel("x axis [years]")
plt.ylabel("y axis [units]")
#plt.ylim(0.)
plt.grid()
#plt.show()
#plt.savefig("matplotlib1.png")
pdf.savefig() # page 1
